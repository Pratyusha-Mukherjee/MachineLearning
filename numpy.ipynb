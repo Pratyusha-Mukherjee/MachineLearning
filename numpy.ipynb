{
 "cells": [
  {
   "cell_type": "markdown",
   "metadata": {},
   "source": [
    "#### what is numpy?\n",
    "##### Numpy is a scientific computing library for python that provides support for multidimentional array and mathematical problems"
   ]
  },
  {
   "cell_type": "code",
   "execution_count": 1,
   "metadata": {},
   "outputs": [],
   "source": [
    "#import numpy library\n",
    "import numpy as np"
   ]
  },
  {
   "cell_type": "code",
   "execution_count": 3,
   "metadata": {},
   "outputs": [
    {
     "name": "stdout",
     "output_type": "stream",
     "text": [
      "1-D Array\n",
      "[1, 2, 3, 4, 5]\n",
      "----------------------------\n",
      "2-D Array\n",
      "[[1, 2, 3, 4, 5], [6, 7, 8, 9, 10]]\n",
      "----------------------------\n",
      "1-D Array\n",
      "[[1, 2, 3, 4, 5], [6, 7, 8, 9, 10], [11, 12, 13, 14, 15]]\n",
      "----------------------------\n"
     ]
    }
   ],
   "source": [
    "print(\"1-D Array\")\n",
    "arr1 = [1,2,3,4,5]\n",
    "print(arr1)\n",
    "print(\"----------------------------\")\n",
    "\n",
    "print(\"2-D Array\")\n",
    "arr2 = [[1,2,3,4,5],[6,7,8,9,10]]\n",
    "print(arr2)\n",
    "print(\"----------------------------\")\n",
    "\n",
    "print(\"1-D Array\")\n",
    "arr3 = [[1,2,3,4,5],[6,7,8,9,10],[11,12,13,14,15]]\n",
    "print(arr3)\n",
    "print(\"----------------------------\")"
   ]
  },
  {
   "cell_type": "markdown",
   "metadata": {},
   "source": [
    "#### why Numpy?\n",
    "##### We can store multidimmentional Array in numpy which is an advatange"
   ]
  },
  {
   "cell_type": "code",
   "execution_count": 15,
   "metadata": {},
   "outputs": [
    {
     "name": "stdout",
     "output_type": "stream",
     "text": [
      "1-D Array\n",
      "[1 2 3 4 5]\n",
      "----------------------------\n",
      "2-D Array\n",
      "[[ 1  2  3  4  5]\n",
      " [ 6  7  8  9 10]]\n",
      "----------------------------\n",
      "3-D Array\n",
      "[[[ 1  2  3]\n",
      "  [ 4  5 18]]\n",
      "\n",
      " [[ 6  7  8]\n",
      "  [ 9 10 19]]\n",
      "\n",
      " [[11 12 20]\n",
      "  [13 14 15]]]\n",
      "----------------------------\n"
     ]
    }
   ],
   "source": [
    "print(\"1-D Array\")\n",
    "arr1 = np.array([1,2,3,4,5])\n",
    "print(arr1)\n",
    "print(\"----------------------------\")\n",
    "\n",
    "print(\"2-D Array\")\n",
    "arr2 = np.array([[1,2,3,4,5],[6,7,8,9,10]])\n",
    "print(arr2)\n",
    "print(\"----------------------------\")\n",
    "\n",
    "\n",
    "print(\"3-D Array\")\n",
    "arr3 = np.array([[[1, 2, 3], [4, 5, 18]],\n",
    "                 [[6, 7, 8], [9, 10, 19]],\n",
    "                 [[11, 12, 20], [13, 14, 15]]])\n",
    "print(arr3)\n",
    "print(\"----------------------------\")\n"
   ]
  },
  {
   "cell_type": "code",
   "execution_count": 17,
   "metadata": {},
   "outputs": [
    {
     "name": "stdout",
     "output_type": "stream",
     "text": [
      "Type of the array\n",
      "<class 'numpy.ndarray'>\n",
      "----------------------------\n",
      "size of the arrays:-\n",
      "5\n",
      "10\n",
      "18\n",
      "----------------------------\n",
      "shape of the arrays:-\n",
      "(5,)\n",
      "(2, 5)\n",
      "(3, 2, 3)\n",
      "----------------------------\n",
      "dtype of the arrays:-\n",
      "int32\n",
      "int32\n",
      "int32\n",
      "----------------------------\n"
     ]
    }
   ],
   "source": [
    "#type,size,shape of the array\n",
    "print(\"Type of the array\")\n",
    "print(type(arr1))\n",
    "print(\"----------------------------\")\n",
    "\n",
    "print(\"size of the arrays:-\")\n",
    "print(arr1.size)\n",
    "print(arr2.size)\n",
    "print(arr3.size)\n",
    "print(\"----------------------------\")\n",
    "\n",
    "print(\"shape of the arrays:-\")\n",
    "print(arr1.shape)\n",
    "print(arr2.shape)\n",
    "print(arr3.shape)\n",
    "print(\"----------------------------\")\n",
    "\n",
    "print(\"dtype of the arrays:-\")\n",
    "print(arr1.dtype)\n",
    "print(arr2.dtype)\n",
    "print(arr3.dtype)\n",
    "print(\"----------------------------\")\n",
    "\n",
    "\n"
   ]
  },
  {
   "cell_type": "code",
   "execution_count": 22,
   "metadata": {},
   "outputs": [
    {
     "name": "stdout",
     "output_type": "stream",
     "text": [
      "[[1.  2.5]\n",
      " [3.9 4. ]]\n",
      "(2, 2)\n",
      "4\n",
      "float64\n"
     ]
    }
   ],
   "source": [
    "arr4 = np.array([[1,2.5],[3.9,4]])\n",
    "print(arr4)\n",
    "print(arr4.shape)\n",
    "print(arr4.size)\n",
    "print(arr4.dtype)"
   ]
  },
  {
   "cell_type": "code",
   "execution_count": 24,
   "metadata": {},
   "outputs": [
    {
     "name": "stdout",
     "output_type": "stream",
     "text": [
      "[[ 1  6]\n",
      " [ 2  7]\n",
      " [ 3  8]\n",
      " [ 4  9]\n",
      " [ 5 10]]\n"
     ]
    }
   ],
   "source": [
    "#transpose of an array or matrix\n",
    "arr5 = arr2.transpose()\n",
    "print(arr5)"
   ]
  },
  {
   "cell_type": "code",
   "execution_count": null,
   "metadata": {},
   "outputs": [],
   "source": []
  }
 ],
 "metadata": {
  "kernelspec": {
   "display_name": "Python 3",
   "language": "python",
   "name": "python3"
  },
  "language_info": {
   "codemirror_mode": {
    "name": "ipython",
    "version": 3
   },
   "file_extension": ".py",
   "mimetype": "text/x-python",
   "name": "python",
   "nbconvert_exporter": "python",
   "pygments_lexer": "ipython3",
   "version": "3.11.4"
  }
 },
 "nbformat": 4,
 "nbformat_minor": 2
}

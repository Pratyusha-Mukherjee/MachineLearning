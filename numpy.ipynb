{
 "cells": [
  {
   "cell_type": "markdown",
   "metadata": {},
   "source": [
    "#### what is numpy?\n",
    "##### Numpy is a scientific computing library for python that provides support for multidimentional array and mathematical problems"
   ]
  },
  {
   "cell_type": "code",
   "execution_count": 63,
   "metadata": {},
   "outputs": [],
   "source": [
    "#import numpy library\n",
    "import numpy as np"
   ]
  },
  {
   "cell_type": "code",
   "execution_count": 64,
   "metadata": {},
   "outputs": [
    {
     "name": "stdout",
     "output_type": "stream",
     "text": [
      "1-D Array\n",
      "[1, 2, 3, 4, 5]\n",
      "----------------------------\n",
      "2-D Array\n",
      "[[1, 2, 3, 4, 5], [6, 7, 8, 9, 10]]\n",
      "----------------------------\n",
      "1-D Array\n",
      "[[1, 2, 3, 4, 5], [6, 7, 8, 9, 10], [11, 12, 13, 14, 15]]\n",
      "----------------------------\n"
     ]
    }
   ],
   "source": [
    "print(\"1-D Array\")\n",
    "arr1 = [1,2,3,4,5]\n",
    "print(arr1)\n",
    "print(\"----------------------------\")\n",
    "\n",
    "print(\"2-D Array\")\n",
    "arr2 = [[1,2,3,4,5],[6,7,8,9,10]]\n",
    "print(arr2)\n",
    "print(\"----------------------------\")\n",
    "\n",
    "print(\"1-D Array\")\n",
    "arr3 = [[1,2,3,4,5],[6,7,8,9,10],[11,12,13,14,15]]\n",
    "print(arr3)\n",
    "print(\"----------------------------\")"
   ]
  },
  {
   "cell_type": "markdown",
   "metadata": {},
   "source": [
    "#### why Numpy?\n",
    "##### We can store multidimmentional Array in numpy which is an advatange"
   ]
  },
  {
   "cell_type": "code",
   "execution_count": 65,
   "metadata": {},
   "outputs": [
    {
     "name": "stdout",
     "output_type": "stream",
     "text": [
      "1-D Array\n",
      "[1 2 3 4 5]\n",
      "----------------------------\n",
      "2-D Array\n",
      "[[ 1  2  3  4  5]\n",
      " [ 6  7  8  9 10]]\n",
      "----------------------------\n",
      "3-D Array\n",
      "[[[ 1  2  3]\n",
      "  [ 4  5 18]]\n",
      "\n",
      " [[ 6  7  8]\n",
      "  [ 9 10 19]]\n",
      "\n",
      " [[11 12 20]\n",
      "  [13 14 15]]]\n",
      "----------------------------\n"
     ]
    }
   ],
   "source": [
    "print(\"1-D Array\")\n",
    "arr1 = np.array([1,2,3,4,5])\n",
    "print(arr1)\n",
    "print(\"----------------------------\")\n",
    "\n",
    "print(\"2-D Array\")\n",
    "arr2 = np.array([[1,2,3,4,5],[6,7,8,9,10]])\n",
    "print(arr2)\n",
    "print(\"----------------------------\")\n",
    "\n",
    "\n",
    "print(\"3-D Array\")\n",
    "arr3 = np.array([[[1, 2, 3], [4, 5, 18]],\n",
    "                 [[6, 7, 8], [9, 10, 19]],\n",
    "                 [[11, 12, 20], [13, 14, 15]]])\n",
    "print(arr3)\n",
    "print(\"----------------------------\")\n"
   ]
  },
  {
   "cell_type": "code",
   "execution_count": 66,
   "metadata": {},
   "outputs": [
    {
     "name": "stdout",
     "output_type": "stream",
     "text": [
      "Type of the array\n",
      "<class 'numpy.ndarray'>\n",
      "----------------------------\n",
      "size of the arrays:-\n",
      "5\n",
      "10\n",
      "18\n",
      "----------------------------\n",
      "shape of the arrays:-\n",
      "(5,)\n",
      "(2, 5)\n",
      "(3, 2, 3)\n",
      "----------------------------\n",
      "dtype of the arrays:-\n",
      "int32\n",
      "int32\n",
      "int32\n",
      "----------------------------\n"
     ]
    }
   ],
   "source": [
    "#type,size,shape of the array\n",
    "print(\"Type of the array\")\n",
    "print(type(arr1))\n",
    "print(\"----------------------------\")\n",
    "\n",
    "print(\"size of the arrays:-\")\n",
    "print(arr1.size)\n",
    "print(arr2.size)\n",
    "print(arr3.size)\n",
    "print(\"----------------------------\")\n",
    "\n",
    "print(\"shape of the arrays:-\")\n",
    "print(arr1.shape)\n",
    "print(arr2.shape)\n",
    "print(arr3.shape)\n",
    "print(\"----------------------------\")\n",
    "\n",
    "print(\"dtype of the arrays:-\")\n",
    "print(arr1.dtype)\n",
    "print(arr2.dtype)\n",
    "print(arr3.dtype)\n",
    "print(\"----------------------------\")\n",
    "\n",
    "\n"
   ]
  },
  {
   "cell_type": "code",
   "execution_count": 67,
   "metadata": {},
   "outputs": [
    {
     "name": "stdout",
     "output_type": "stream",
     "text": [
      "[[1.  2.5]\n",
      " [3.9 4. ]]\n",
      "(2, 2)\n",
      "4\n",
      "float64\n"
     ]
    }
   ],
   "source": [
    "arr4 = np.array([[1,2.5],[3.9,4]])\n",
    "print(arr4)\n",
    "print(arr4.shape)\n",
    "print(arr4.size)\n",
    "print(arr4.dtype)"
   ]
  },
  {
   "cell_type": "code",
   "execution_count": 68,
   "metadata": {},
   "outputs": [
    {
     "name": "stdout",
     "output_type": "stream",
     "text": [
      "[[ 1  6]\n",
      " [ 2  7]\n",
      " [ 3  8]\n",
      " [ 4  9]\n",
      " [ 5 10]]\n"
     ]
    }
   ],
   "source": [
    "#transpose of an array or matrix\n",
    "arr5 = arr2.transpose()\n",
    "print(arr5)"
   ]
  },
  {
   "cell_type": "code",
   "execution_count": 69,
   "metadata": {},
   "outputs": [
    {
     "data": {
      "text/plain": [
       "array([[4128860, 6029375, 3801155, 5570652],\n",
       "       [6619251, 7536754, 6815836, 6029424],\n",
       "       [7340097, 4456560, 7602273, 6029409],\n",
       "       [7274572, 6357091,     108,     659]])"
      ]
     },
     "execution_count": 69,
     "metadata": {},
     "output_type": "execute_result"
    }
   ],
   "source": [
    "# when we want an empty array with random data\n",
    "np.empty((4,4),dtype=int)"
   ]
  },
  {
   "cell_type": "code",
   "execution_count": 70,
   "metadata": {},
   "outputs": [
    {
     "name": "stdout",
     "output_type": "stream",
     "text": [
      "[[1 1 1 1]\n",
      " [1 1 1 1]]\n"
     ]
    }
   ],
   "source": [
    "# if we want only 1 be the element of the array\n",
    "arr6 = np.ones((2,4),dtype=int)\n",
    "print(arr6)"
   ]
  },
  {
   "cell_type": "code",
   "execution_count": 71,
   "metadata": {},
   "outputs": [
    {
     "name": "stdout",
     "output_type": "stream",
     "text": [
      "[[0 0 0]\n",
      " [0 0 0]\n",
      " [0 0 0]]\n"
     ]
    }
   ],
   "source": [
    "#if we want 0 be the element of the array\n",
    "arr7=np.zeros((3,3),dtype=int)\n",
    "print(arr7)"
   ]
  },
  {
   "cell_type": "code",
   "execution_count": 72,
   "metadata": {},
   "outputs": [
    {
     "name": "stdout",
     "output_type": "stream",
     "text": [
      "[[ True  True  True  True]\n",
      " [ True  True  True  True]]\n"
     ]
    }
   ],
   "source": [
    "arr6 = np.ones((2,4),dtype=bool)\n",
    "print(arr6)"
   ]
  },
  {
   "cell_type": "code",
   "execution_count": 73,
   "metadata": {},
   "outputs": [
    {
     "name": "stdout",
     "output_type": "stream",
     "text": [
      "[['' '' '' '']\n",
      " ['' '' '' '']]\n"
     ]
    }
   ],
   "source": [
    "arr6 = np.zeros((2,4),dtype=str)\n",
    "print(arr6)"
   ]
  },
  {
   "cell_type": "code",
   "execution_count": 74,
   "metadata": {},
   "outputs": [
    {
     "name": "stdout",
     "output_type": "stream",
     "text": [
      "[[False False False False]\n",
      " [False False False False]]\n"
     ]
    }
   ],
   "source": [
    "arr6 = np.zeros((2,4),dtype=bool)\n",
    "print(arr6)"
   ]
  },
  {
   "cell_type": "code",
   "execution_count": 75,
   "metadata": {},
   "outputs": [
    {
     "name": "stdout",
     "output_type": "stream",
     "text": [
      "[ 2  4  6  8 10 12 14 16 18]\n"
     ]
    }
   ],
   "source": [
    "# to print something like for loop\n",
    "arr8 = np.arange(2,20,2)\n",
    "print(arr8)"
   ]
  },
  {
   "cell_type": "code",
   "execution_count": 76,
   "metadata": {},
   "outputs": [
    {
     "data": {
      "text/plain": [
       "array([[ 2,  4,  6],\n",
       "       [ 8, 10, 12],\n",
       "       [14, 16, 18]])"
      ]
     },
     "execution_count": 76,
     "metadata": {},
     "output_type": "execute_result"
    }
   ],
   "source": [
    "arr8= arr8.reshape(3,3)\n",
    "arr8"
   ]
  },
  {
   "cell_type": "code",
   "execution_count": 77,
   "metadata": {},
   "outputs": [
    {
     "name": "stdout",
     "output_type": "stream",
     "text": [
      "[ 1  3  5  7  9 11 13 15 17 19 21 23 25 27 29 31 33 35 37 39 41 43 45 47\n",
      " 49 51 53 55 57 59 61 63 65 67 69 71 73 75 77 79 81 83 85 87 89 91 93 95\n",
      " 97 99]\n"
     ]
    }
   ],
   "source": [
    "arr9 = np.arange(1,100,2)\n",
    "print(arr9)"
   ]
  },
  {
   "cell_type": "code",
   "execution_count": 78,
   "metadata": {},
   "outputs": [
    {
     "name": "stdout",
     "output_type": "stream",
     "text": [
      "[[ 1  3  5  7  9]\n",
      " [11 13 15 17 19]\n",
      " [21 23 25 27 29]\n",
      " [31 33 35 37 39]\n",
      " [41 43 45 47 49]\n",
      " [51 53 55 57 59]\n",
      " [61 63 65 67 69]\n",
      " [71 73 75 77 79]\n",
      " [81 83 85 87 89]\n",
      " [91 93 95 97 99]]\n"
     ]
    }
   ],
   "source": [
    "arr9 = arr9.reshape(10,5)\n",
    "print(arr9)"
   ]
  },
  {
   "cell_type": "code",
   "execution_count": 79,
   "metadata": {},
   "outputs": [
    {
     "data": {
      "text/plain": [
       "array([ 2,  4,  6,  8, 10, 12, 14, 16, 18])"
      ]
     },
     "execution_count": 79,
     "metadata": {},
     "output_type": "execute_result"
    }
   ],
   "source": [
    "arr8 = arr8.flatten()\n",
    "arr8"
   ]
  },
  {
   "cell_type": "code",
   "execution_count": 80,
   "metadata": {},
   "outputs": [
    {
     "data": {
      "text/plain": [
       "array([ 2,  4,  6,  8, 10, 12, 14, 16, 18])"
      ]
     },
     "execution_count": 80,
     "metadata": {},
     "output_type": "execute_result"
    }
   ],
   "source": [
    "arr8 = arr8.ravel()\n",
    "arr8"
   ]
  },
  {
   "cell_type": "markdown",
   "metadata": {},
   "source": [
    "#### what is the difference  between ravel and flatten?\n",
    "##### Ravel:- 1) returns only reference or view of original array\n",
    "##### 2) it does not create a new array\n",
    "##### 3) it does not change the shape of the array\n",
    "##### Flatten:- 1) returns a copy of original array\n",
    "##### 2) it creates a new array\n",
    "##### 3) it changes the shape of the array\n"
   ]
  },
  {
   "cell_type": "markdown",
   "metadata": {},
   "source": [
    "#### array slicing"
   ]
  },
  {
   "cell_type": "code",
   "execution_count": 81,
   "metadata": {},
   "outputs": [
    {
     "name": "stdout",
     "output_type": "stream",
     "text": [
      "[[ 1  2  3  4  5]\n",
      " [ 6  7  8  9 10]\n",
      " [11 12 13 14 15]\n",
      " [16 17 18 19 20]\n",
      " [21 22 23 24 25]\n",
      " [26 27 28 29 30]\n",
      " [31 32 33 34 35]\n",
      " [36 37 38 39 40]\n",
      " [41 42 43 44 45]\n",
      " [46 47 48 49 50]]\n"
     ]
    }
   ],
   "source": [
    "arr9 = np.arange(1,51)\n",
    "arr9 = arr9.reshape(10,5)\n",
    "print(arr9)"
   ]
  },
  {
   "cell_type": "code",
   "execution_count": 82,
   "metadata": {},
   "outputs": [
    {
     "data": {
      "text/plain": [
       "array([1, 2, 3, 4, 5])"
      ]
     },
     "execution_count": 82,
     "metadata": {},
     "output_type": "execute_result"
    }
   ],
   "source": [
    "arr9[0]"
   ]
  },
  {
   "cell_type": "code",
   "execution_count": 83,
   "metadata": {},
   "outputs": [
    {
     "data": {
      "text/plain": [
       "2"
      ]
     },
     "execution_count": 83,
     "metadata": {},
     "output_type": "execute_result"
    }
   ],
   "source": [
    "arr9[0][1]"
   ]
  },
  {
   "cell_type": "code",
   "execution_count": 84,
   "metadata": {},
   "outputs": [
    {
     "data": {
      "text/plain": [
       "20"
      ]
     },
     "execution_count": 84,
     "metadata": {},
     "output_type": "execute_result"
    }
   ],
   "source": [
    "arr9[3,4]"
   ]
  },
  {
   "cell_type": "code",
   "execution_count": 85,
   "metadata": {},
   "outputs": [
    {
     "data": {
      "text/plain": [
       "array([[11, 12, 13, 14, 15],\n",
       "       [16, 17, 18, 19, 20],\n",
       "       [21, 22, 23, 24, 25]])"
      ]
     },
     "execution_count": 85,
     "metadata": {},
     "output_type": "execute_result"
    }
   ],
   "source": [
    "# if we want to print from 2nd row to 4th row\n",
    "arr9[2:5]  #[index of starting row:index of endingrow+1]"
   ]
  },
  {
   "cell_type": "code",
   "execution_count": 86,
   "metadata": {},
   "outputs": [
    {
     "data": {
      "text/plain": [
       "array([ 5, 10, 15, 20, 25, 30, 35, 40, 45, 50])"
      ]
     },
     "execution_count": 86,
     "metadata": {},
     "output_type": "execute_result"
    }
   ],
   "source": [
    "arr9[:,4]"
   ]
  },
  {
   "cell_type": "code",
   "execution_count": 87,
   "metadata": {},
   "outputs": [
    {
     "data": {
      "text/plain": [
       "array([14, 19, 24])"
      ]
     },
     "execution_count": 87,
     "metadata": {},
     "output_type": "execute_result"
    }
   ],
   "source": [
    "arr9[2:5,3]"
   ]
  },
  {
   "cell_type": "code",
   "execution_count": 88,
   "metadata": {},
   "outputs": [
    {
     "data": {
      "text/plain": [
       "array([[ 3,  4,  5],\n",
       "       [ 8,  9, 10],\n",
       "       [13, 14, 15],\n",
       "       [18, 19, 20],\n",
       "       [23, 24, 25],\n",
       "       [28, 29, 30],\n",
       "       [33, 34, 35],\n",
       "       [38, 39, 40],\n",
       "       [43, 44, 45],\n",
       "       [48, 49, 50]])"
      ]
     },
     "execution_count": 88,
     "metadata": {},
     "output_type": "execute_result"
    }
   ],
   "source": [
    "arr9[:,2:5]\n"
   ]
  },
  {
   "cell_type": "code",
   "execution_count": 89,
   "metadata": {},
   "outputs": [
    {
     "data": {
      "text/plain": [
       "array([ 8,  9, 10])"
      ]
     },
     "execution_count": 89,
     "metadata": {},
     "output_type": "execute_result"
    }
   ],
   "source": [
    "arr9[1,2:5]"
   ]
  },
  {
   "cell_type": "code",
   "execution_count": 118,
   "metadata": {},
   "outputs": [
    {
     "name": "stdout",
     "output_type": "stream",
     "text": [
      "[[ 0  1  2]\n",
      " [ 3  4  5]\n",
      " [ 6  7  8]\n",
      " [ 9 10 11]\n",
      " [12 13 14]\n",
      " [15 16 17]]\n",
      "----------------------------\n",
      "[[ 5 10 15]\n",
      " [20 25 30]\n",
      " [35 40 45]\n",
      " [50 55 60]\n",
      " [65 70 75]\n",
      " [80 85 90]]\n"
     ]
    }
   ],
   "source": [
    "# creating teo arrays\n",
    "a = np.arange(0,18).reshape(6,3)\n",
    "b = np.arange(5,91,5).reshape(6,3)\n",
    "print(a)\n",
    "print(\"----------------------------\")\n",
    "print(b)"
   ]
  },
  {
   "cell_type": "code",
   "execution_count": 91,
   "metadata": {},
   "outputs": [
    {
     "data": {
      "text/plain": [
       "array([[   0,   10,   30],\n",
       "       [  60,  100,  150],\n",
       "       [ 210,  280,  360],\n",
       "       [ 450,  550,  660],\n",
       "       [ 780,  910, 1050],\n",
       "       [1200, 1360, 1530]])"
      ]
     },
     "execution_count": 91,
     "metadata": {},
     "output_type": "execute_result"
    }
   ],
   "source": [
    "a*b #or np.multiply(a,b)"
   ]
  },
  {
   "cell_type": "code",
   "execution_count": 92,
   "metadata": {},
   "outputs": [
    {
     "data": {
      "text/plain": [
       "array([[  5,  11,  17],\n",
       "       [ 23,  29,  35],\n",
       "       [ 41,  47,  53],\n",
       "       [ 59,  65,  71],\n",
       "       [ 77,  83,  89],\n",
       "       [ 95, 101, 107]])"
      ]
     },
     "execution_count": 92,
     "metadata": {},
     "output_type": "execute_result"
    }
   ],
   "source": [
    "a+b"
   ]
  },
  {
   "cell_type": "code",
   "execution_count": 93,
   "metadata": {},
   "outputs": [
    {
     "data": {
      "text/plain": [
       "array([[  5,  11,  17],\n",
       "       [ 23,  29,  35],\n",
       "       [ 41,  47,  53],\n",
       "       [ 59,  65,  71],\n",
       "       [ 77,  83,  89],\n",
       "       [ 95, 101, 107]])"
      ]
     },
     "execution_count": 93,
     "metadata": {},
     "output_type": "execute_result"
    }
   ],
   "source": [
    "np.add(a,b)"
   ]
  },
  {
   "cell_type": "code",
   "execution_count": 94,
   "metadata": {},
   "outputs": [
    {
     "data": {
      "text/plain": [
       "array([[   0,   10,   30],\n",
       "       [  60,  100,  150],\n",
       "       [ 210,  280,  360],\n",
       "       [ 450,  550,  660],\n",
       "       [ 780,  910, 1050],\n",
       "       [1200, 1360, 1530]])"
      ]
     },
     "execution_count": 94,
     "metadata": {},
     "output_type": "execute_result"
    }
   ],
   "source": [
    "np.multiply(a,b)"
   ]
  },
  {
   "cell_type": "code",
   "execution_count": 95,
   "metadata": {},
   "outputs": [
    {
     "data": {
      "text/plain": [
       "array([[ -5,  -9, -13],\n",
       "       [-17, -21, -25],\n",
       "       [-29, -33, -37],\n",
       "       [-41, -45, -49],\n",
       "       [-53, -57, -61],\n",
       "       [-65, -69, -73]])"
      ]
     },
     "execution_count": 95,
     "metadata": {},
     "output_type": "execute_result"
    }
   ],
   "source": [
    "a-b"
   ]
  },
  {
   "cell_type": "code",
   "execution_count": 97,
   "metadata": {},
   "outputs": [
    {
     "data": {
      "text/plain": [
       "array([[ -5,  -9, -13],\n",
       "       [-17, -21, -25],\n",
       "       [-29, -33, -37],\n",
       "       [-41, -45, -49],\n",
       "       [-53, -57, -61],\n",
       "       [-65, -69, -73]])"
      ]
     },
     "execution_count": 97,
     "metadata": {},
     "output_type": "execute_result"
    }
   ],
   "source": [
    "np.subtract(a,b)"
   ]
  },
  {
   "cell_type": "code",
   "execution_count": 98,
   "metadata": {},
   "outputs": [
    {
     "data": {
      "text/plain": [
       "array([[0.        , 0.1       , 0.13333333],\n",
       "       [0.15      , 0.16      , 0.16666667],\n",
       "       [0.17142857, 0.175     , 0.17777778],\n",
       "       [0.18      , 0.18181818, 0.18333333],\n",
       "       [0.18461538, 0.18571429, 0.18666667],\n",
       "       [0.1875    , 0.18823529, 0.18888889]])"
      ]
     },
     "execution_count": 98,
     "metadata": {},
     "output_type": "execute_result"
    }
   ],
   "source": [
    "a/b"
   ]
  },
  {
   "cell_type": "markdown",
   "metadata": {},
   "source": [
    "#### why the error is coming in the first go if we do not reshape b?\n",
    "##### because we know for matrix multiplication column of A = row of B , so we need to reshape it"
   ]
  },
  {
   "cell_type": "code",
   "execution_count": 100,
   "metadata": {},
   "outputs": [
    {
     "data": {
      "text/plain": [
       "array([[ 5, 10, 15, 20, 25, 30],\n",
       "       [35, 40, 45, 50, 55, 60],\n",
       "       [65, 70, 75, 80, 85, 90]])"
      ]
     },
     "execution_count": 100,
     "metadata": {},
     "output_type": "execute_result"
    }
   ],
   "source": [
    "b=b.reshape(3,6)\n",
    "b"
   ]
  },
  {
   "cell_type": "code",
   "execution_count": 101,
   "metadata": {},
   "outputs": [
    {
     "data": {
      "text/plain": [
       "array([[ 165,  180,  195,  210,  225,  240],\n",
       "       [ 480,  540,  600,  660,  720,  780],\n",
       "       [ 795,  900, 1005, 1110, 1215, 1320],\n",
       "       [1110, 1260, 1410, 1560, 1710, 1860],\n",
       "       [1425, 1620, 1815, 2010, 2205, 2400],\n",
       "       [1740, 1980, 2220, 2460, 2700, 2940]])"
      ]
     },
     "execution_count": 101,
     "metadata": {},
     "output_type": "execute_result"
    }
   ],
   "source": [
    "#matrixmultiplication\n",
    "a@b"
   ]
  },
  {
   "cell_type": "code",
   "execution_count": 102,
   "metadata": {},
   "outputs": [
    {
     "data": {
      "text/plain": [
       "array([[ 165,  180,  195,  210,  225,  240],\n",
       "       [ 480,  540,  600,  660,  720,  780],\n",
       "       [ 795,  900, 1005, 1110, 1215, 1320],\n",
       "       [1110, 1260, 1410, 1560, 1710, 1860],\n",
       "       [1425, 1620, 1815, 2010, 2205, 2400],\n",
       "       [1740, 1980, 2220, 2460, 2700, 2940]])"
      ]
     },
     "execution_count": 102,
     "metadata": {},
     "output_type": "execute_result"
    }
   ],
   "source": [
    "a.dot(b)"
   ]
  },
  {
   "cell_type": "markdown",
   "metadata": {},
   "source": [
    "### maximum and minimum of an array"
   ]
  },
  {
   "cell_type": "code",
   "execution_count": 104,
   "metadata": {},
   "outputs": [
    {
     "name": "stdout",
     "output_type": "stream",
     "text": [
      "17\n",
      "90\n"
     ]
    }
   ],
   "source": [
    "print(a.max())\n",
    "print(b.max())"
   ]
  },
  {
   "cell_type": "code",
   "execution_count": 105,
   "metadata": {},
   "outputs": [
    {
     "name": "stdout",
     "output_type": "stream",
     "text": [
      "0\n",
      "5\n"
     ]
    }
   ],
   "source": [
    "print(a.min())\n",
    "print(b.min())"
   ]
  },
  {
   "cell_type": "markdown",
   "metadata": {},
   "source": [
    "#### to get the array position of high and low"
   ]
  },
  {
   "cell_type": "code",
   "execution_count": 106,
   "metadata": {},
   "outputs": [
    {
     "name": "stdout",
     "output_type": "stream",
     "text": [
      "17\n",
      "17\n"
     ]
    }
   ],
   "source": [
    "print(a.argmax())\n",
    "print(b.argmax())"
   ]
  },
  {
   "cell_type": "code",
   "execution_count": 107,
   "metadata": {},
   "outputs": [
    {
     "name": "stdout",
     "output_type": "stream",
     "text": [
      "0\n",
      "0\n"
     ]
    }
   ],
   "source": [
    "print(a.argmin())\n",
    "print(b.argmin())"
   ]
  },
  {
   "cell_type": "markdown",
   "metadata": {},
   "source": [
    "#### sum of all the elements of a matrix"
   ]
  },
  {
   "cell_type": "code",
   "execution_count": 109,
   "metadata": {},
   "outputs": [
    {
     "name": "stdout",
     "output_type": "stream",
     "text": [
      "153\n",
      "855\n"
     ]
    }
   ],
   "source": [
    "print(a.sum())\n",
    "print(b.sum())"
   ]
  },
  {
   "cell_type": "markdown",
   "metadata": {},
   "source": [
    "#### sum of each row when axis=1\n",
    "#### sum of each column when axis = 0"
   ]
  },
  {
   "cell_type": "code",
   "execution_count": 113,
   "metadata": {},
   "outputs": [
    {
     "name": "stdout",
     "output_type": "stream",
     "text": [
      "[ 3 12 21 30 39 48]\n",
      "[105 120 135 150 165 180]\n"
     ]
    }
   ],
   "source": [
    "print(np.sum(a,axis=1))\n",
    "print(np.sum(b,axis=0))"
   ]
  },
  {
   "cell_type": "markdown",
   "metadata": {},
   "source": [
    "#### mean,square value,standard deviation,log value"
   ]
  },
  {
   "cell_type": "code",
   "execution_count": 119,
   "metadata": {},
   "outputs": [
    {
     "name": "stdout",
     "output_type": "stream",
     "text": [
      "mean is : 47.5\n",
      "----------------------------\n",
      "square root is: [[2.23606798 3.16227766 3.87298335]\n",
      " [4.47213595 5.         5.47722558]\n",
      " [5.91607978 6.32455532 6.70820393]\n",
      " [7.07106781 7.41619849 7.74596669]\n",
      " [8.06225775 8.36660027 8.66025404]\n",
      " [8.94427191 9.21954446 9.48683298]]\n",
      "----------------------------\n",
      "standard deviation is : 25.940637360455632\n",
      "----------------------------\n",
      "log value is: [[1.60943791 2.30258509 2.7080502 ]\n",
      " [2.99573227 3.21887582 3.40119738]\n",
      " [3.55534806 3.68887945 3.80666249]\n",
      " [3.91202301 4.00733319 4.09434456]\n",
      " [4.17438727 4.24849524 4.31748811]\n",
      " [4.38202663 4.44265126 4.49980967]]\n",
      "----------------------------\n"
     ]
    }
   ],
   "source": [
    "print(\"mean is :\",np.mean(b))\n",
    "print(\"----------------------------\")\n",
    "\n",
    "print(\"square root is:\",np.sqrt(b))\n",
    "print(\"----------------------------\")\n",
    "\n",
    "print(\"standard deviation is :\",np.std(b))\n",
    "print(\"----------------------------\")\n",
    "\n",
    "print(\"log value is:\",np.log(b))\n",
    "print(\"----------------------------\")\n"
   ]
  },
  {
   "cell_type": "markdown",
   "metadata": {},
   "source": [
    "#### visualization of trigonametric functions"
   ]
  },
  {
   "cell_type": "code",
   "execution_count": 121,
   "metadata": {},
   "outputs": [],
   "source": [
    "import matplotlib.pyplot as plt\n",
    "plt.style.use('dark_background')"
   ]
  },
  {
   "cell_type": "code",
   "execution_count": 122,
   "metadata": {},
   "outputs": [
    {
     "data": {
      "text/plain": [
       "3.141592653589793"
      ]
     },
     "execution_count": 122,
     "metadata": {},
     "output_type": "execute_result"
    }
   ],
   "source": [
    "np.pi"
   ]
  },
  {
   "cell_type": "code",
   "execution_count": 127,
   "metadata": {},
   "outputs": [
    {
     "name": "stdout",
     "output_type": "stream",
     "text": [
      "1.0\n",
      "6.123233995736766e-17\n",
      "1.633123935319537e+16\n"
     ]
    }
   ],
   "source": [
    "# for 90 degree\n",
    "print(np.sin(np.pi/2))\n",
    "print(np.cos(np.pi/2))\n",
    "print(np.tan(np.pi/2))\n"
   ]
  },
  {
   "cell_type": "code",
   "execution_count": 128,
   "metadata": {},
   "outputs": [
    {
     "name": "stdout",
     "output_type": "stream",
     "text": [
      "0.49999999999999994\n",
      "0.8660254037844387\n",
      "0.5773502691896257\n"
     ]
    }
   ],
   "source": [
    "# for 30 degree\n",
    "print(np.sin(np.pi/6))\n",
    "print(np.cos(np.pi/6))\n",
    "print(np.tan(np.pi/6))\n"
   ]
  },
  {
   "cell_type": "code",
   "execution_count": 129,
   "metadata": {},
   "outputs": [
    {
     "data": {
      "text/plain": [
       "0.0"
      ]
     },
     "execution_count": 129,
     "metadata": {},
     "output_type": "execute_result"
    }
   ],
   "source": [
    "np.tan(0)"
   ]
  },
  {
   "cell_type": "markdown",
   "metadata": {},
   "source": [
    "#### Matplot with numpy\n",
    "(first visit the matplot codes then this)"
   ]
  },
  {
   "cell_type": "code",
   "execution_count": null,
   "metadata": {},
   "outputs": [],
   "source": []
  }
 ],
 "metadata": {
  "kernelspec": {
   "display_name": "Python 3",
   "language": "python",
   "name": "python3"
  },
  "language_info": {
   "codemirror_mode": {
    "name": "ipython",
    "version": 3
   },
   "file_extension": ".py",
   "mimetype": "text/x-python",
   "name": "python",
   "nbconvert_exporter": "python",
   "pygments_lexer": "ipython3",
   "version": "3.11.4"
  }
 },
 "nbformat": 4,
 "nbformat_minor": 2
}

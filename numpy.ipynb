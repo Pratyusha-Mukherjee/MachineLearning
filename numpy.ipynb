{
 "cells": [
  {
   "cell_type": "markdown",
   "metadata": {},
   "source": [
    "#### what is numpy?\n",
    "##### Numpy is a scientific computing library for python that provides support for multidimentional array and mathematical problems"
   ]
  },
  {
   "cell_type": "code",
   "execution_count": 2,
   "metadata": {},
   "outputs": [],
   "source": [
    "#import numpy library\n",
    "import numpy as np"
   ]
  },
  {
   "cell_type": "code",
   "execution_count": 3,
   "metadata": {},
   "outputs": [
    {
     "name": "stdout",
     "output_type": "stream",
     "text": [
      "1-D Array\n",
      "[1, 2, 3, 4, 5]\n",
      "----------------------------\n",
      "2-D Array\n",
      "[[1, 2, 3, 4, 5], [6, 7, 8, 9, 10]]\n",
      "----------------------------\n",
      "1-D Array\n",
      "[[1, 2, 3, 4, 5], [6, 7, 8, 9, 10], [11, 12, 13, 14, 15]]\n",
      "----------------------------\n"
     ]
    }
   ],
   "source": [
    "print(\"1-D Array\")\n",
    "arr1 = [1,2,3,4,5]\n",
    "print(arr1)\n",
    "print(\"----------------------------\")\n",
    "\n",
    "print(\"2-D Array\")\n",
    "arr2 = [[1,2,3,4,5],[6,7,8,9,10]]\n",
    "print(arr2)\n",
    "print(\"----------------------------\")\n",
    "\n",
    "print(\"1-D Array\")\n",
    "arr3 = [[1,2,3,4,5],[6,7,8,9,10],[11,12,13,14,15]]\n",
    "print(arr3)\n",
    "print(\"----------------------------\")"
   ]
  },
  {
   "cell_type": "markdown",
   "metadata": {},
   "source": [
    "#### why Numpy?\n",
    "##### We can store multidimmentional Array in numpy which is an advatange"
   ]
  },
  {
   "cell_type": "code",
   "execution_count": 4,
   "metadata": {},
   "outputs": [
    {
     "name": "stdout",
     "output_type": "stream",
     "text": [
      "1-D Array\n",
      "[1 2 3 4 5]\n",
      "----------------------------\n",
      "2-D Array\n",
      "[[ 1  2  3  4  5]\n",
      " [ 6  7  8  9 10]]\n",
      "----------------------------\n",
      "3-D Array\n",
      "[[[ 1  2  3]\n",
      "  [ 4  5 18]]\n",
      "\n",
      " [[ 6  7  8]\n",
      "  [ 9 10 19]]\n",
      "\n",
      " [[11 12 20]\n",
      "  [13 14 15]]]\n",
      "----------------------------\n"
     ]
    }
   ],
   "source": [
    "print(\"1-D Array\")\n",
    "arr1 = np.array([1,2,3,4,5])\n",
    "print(arr1)\n",
    "print(\"----------------------------\")\n",
    "\n",
    "print(\"2-D Array\")\n",
    "arr2 = np.array([[1,2,3,4,5],[6,7,8,9,10]])\n",
    "print(arr2)\n",
    "print(\"----------------------------\")\n",
    "\n",
    "\n",
    "print(\"3-D Array\")\n",
    "arr3 = np.array([[[1, 2, 3], [4, 5, 18]],\n",
    "                 [[6, 7, 8], [9, 10, 19]],\n",
    "                 [[11, 12, 20], [13, 14, 15]]])\n",
    "print(arr3)\n",
    "print(\"----------------------------\")\n"
   ]
  },
  {
   "cell_type": "code",
   "execution_count": 5,
   "metadata": {},
   "outputs": [
    {
     "name": "stdout",
     "output_type": "stream",
     "text": [
      "Type of the array\n",
      "<class 'numpy.ndarray'>\n",
      "----------------------------\n",
      "size of the arrays:-\n",
      "5\n",
      "10\n",
      "18\n",
      "----------------------------\n",
      "shape of the arrays:-\n",
      "(5,)\n",
      "(2, 5)\n",
      "(3, 2, 3)\n",
      "----------------------------\n",
      "dtype of the arrays:-\n",
      "int32\n",
      "int32\n",
      "int32\n",
      "----------------------------\n"
     ]
    }
   ],
   "source": [
    "#type,size,shape of the array\n",
    "print(\"Type of the array\")\n",
    "print(type(arr1))\n",
    "print(\"----------------------------\")\n",
    "\n",
    "print(\"size of the arrays:-\")\n",
    "print(arr1.size)\n",
    "print(arr2.size)\n",
    "print(arr3.size)\n",
    "print(\"----------------------------\")\n",
    "\n",
    "print(\"shape of the arrays:-\")\n",
    "print(arr1.shape)\n",
    "print(arr2.shape)\n",
    "print(arr3.shape)\n",
    "print(\"----------------------------\")\n",
    "\n",
    "print(\"dtype of the arrays:-\")\n",
    "print(arr1.dtype)\n",
    "print(arr2.dtype)\n",
    "print(arr3.dtype)\n",
    "print(\"----------------------------\")\n",
    "\n",
    "\n"
   ]
  },
  {
   "cell_type": "code",
   "execution_count": 6,
   "metadata": {},
   "outputs": [
    {
     "name": "stdout",
     "output_type": "stream",
     "text": [
      "[[1.  2.5]\n",
      " [3.9 4. ]]\n",
      "(2, 2)\n",
      "4\n",
      "float64\n"
     ]
    }
   ],
   "source": [
    "arr4 = np.array([[1,2.5],[3.9,4]])\n",
    "print(arr4)\n",
    "print(arr4.shape)\n",
    "print(arr4.size)\n",
    "print(arr4.dtype)"
   ]
  },
  {
   "cell_type": "code",
   "execution_count": 7,
   "metadata": {},
   "outputs": [
    {
     "name": "stdout",
     "output_type": "stream",
     "text": [
      "[[ 1  6]\n",
      " [ 2  7]\n",
      " [ 3  8]\n",
      " [ 4  9]\n",
      " [ 5 10]]\n"
     ]
    }
   ],
   "source": [
    "#transpose of an array or matrix\n",
    "arr5 = arr2.transpose()\n",
    "print(arr5)"
   ]
  },
  {
   "cell_type": "code",
   "execution_count": 8,
   "metadata": {},
   "outputs": [
    {
     "data": {
      "text/plain": [
       "array([[4128860, 6029375, 3801155, 5570652],\n",
       "       [6619251, 7536754, 6815836, 6029424],\n",
       "       [7340097, 4456560, 7602273, 6029409],\n",
       "       [7274572, 6357091, 6029420, 6619220]])"
      ]
     },
     "execution_count": 8,
     "metadata": {},
     "output_type": "execute_result"
    }
   ],
   "source": [
    "# when we want an empty array with random data\n",
    "np.empty((4,4),dtype=int)"
   ]
  },
  {
   "cell_type": "code",
   "execution_count": 9,
   "metadata": {},
   "outputs": [
    {
     "name": "stdout",
     "output_type": "stream",
     "text": [
      "[[1 1 1 1]\n",
      " [1 1 1 1]]\n"
     ]
    }
   ],
   "source": [
    "# if we want only 1 be the element of the array\n",
    "arr6 = np.ones((2,4),dtype=int)\n",
    "print(arr6)"
   ]
  },
  {
   "cell_type": "code",
   "execution_count": 10,
   "metadata": {},
   "outputs": [
    {
     "name": "stdout",
     "output_type": "stream",
     "text": [
      "[[0 0 0]\n",
      " [0 0 0]\n",
      " [0 0 0]]\n"
     ]
    }
   ],
   "source": [
    "#if we want 0 be the element of the array\n",
    "arr7=np.zeros((3,3),dtype=int)\n",
    "print(arr7)"
   ]
  },
  {
   "cell_type": "code",
   "execution_count": 11,
   "metadata": {},
   "outputs": [
    {
     "name": "stdout",
     "output_type": "stream",
     "text": [
      "[[ True  True  True  True]\n",
      " [ True  True  True  True]]\n"
     ]
    }
   ],
   "source": [
    "arr6 = np.ones((2,4),dtype=bool)\n",
    "print(arr6)"
   ]
  },
  {
   "cell_type": "code",
   "execution_count": 12,
   "metadata": {},
   "outputs": [
    {
     "name": "stdout",
     "output_type": "stream",
     "text": [
      "[['' '' '' '']\n",
      " ['' '' '' '']]\n"
     ]
    }
   ],
   "source": [
    "arr6 = np.zeros((2,4),dtype=str)\n",
    "print(arr6)"
   ]
  },
  {
   "cell_type": "code",
   "execution_count": 13,
   "metadata": {},
   "outputs": [
    {
     "name": "stdout",
     "output_type": "stream",
     "text": [
      "[[False False False False]\n",
      " [False False False False]]\n"
     ]
    }
   ],
   "source": [
    "arr6 = np.zeros((2,4),dtype=bool)\n",
    "print(arr6)"
   ]
  },
  {
   "cell_type": "code",
   "execution_count": 14,
   "metadata": {},
   "outputs": [
    {
     "name": "stdout",
     "output_type": "stream",
     "text": [
      "[ 2  4  6  8 10 12 14 16 18]\n"
     ]
    }
   ],
   "source": [
    "# to print something like for loop\n",
    "arr8 = np.arange(2,20,2)\n",
    "print(arr8)"
   ]
  },
  {
   "cell_type": "code",
   "execution_count": 15,
   "metadata": {},
   "outputs": [
    {
     "data": {
      "text/plain": [
       "array([[ 2,  4,  6],\n",
       "       [ 8, 10, 12],\n",
       "       [14, 16, 18]])"
      ]
     },
     "execution_count": 15,
     "metadata": {},
     "output_type": "execute_result"
    }
   ],
   "source": [
    "arr8= arr8.reshape(3,3)\n",
    "arr8"
   ]
  },
  {
   "cell_type": "code",
   "execution_count": 16,
   "metadata": {},
   "outputs": [
    {
     "name": "stdout",
     "output_type": "stream",
     "text": [
      "[ 1  3  5  7  9 11 13 15 17 19 21 23 25 27 29 31 33 35 37 39 41 43 45 47\n",
      " 49 51 53 55 57 59 61 63 65 67 69 71 73 75 77 79 81 83 85 87 89 91 93 95\n",
      " 97 99]\n"
     ]
    }
   ],
   "source": [
    "arr9 = np.arange(1,100,2)\n",
    "print(arr9)"
   ]
  },
  {
   "cell_type": "code",
   "execution_count": 17,
   "metadata": {},
   "outputs": [
    {
     "name": "stdout",
     "output_type": "stream",
     "text": [
      "[[ 1  3  5  7  9]\n",
      " [11 13 15 17 19]\n",
      " [21 23 25 27 29]\n",
      " [31 33 35 37 39]\n",
      " [41 43 45 47 49]\n",
      " [51 53 55 57 59]\n",
      " [61 63 65 67 69]\n",
      " [71 73 75 77 79]\n",
      " [81 83 85 87 89]\n",
      " [91 93 95 97 99]]\n"
     ]
    }
   ],
   "source": [
    "arr9 = arr9.reshape(10,5)\n",
    "print(arr9)"
   ]
  },
  {
   "cell_type": "code",
   "execution_count": 18,
   "metadata": {},
   "outputs": [
    {
     "data": {
      "text/plain": [
       "array([ 2,  4,  6,  8, 10, 12, 14, 16, 18])"
      ]
     },
     "execution_count": 18,
     "metadata": {},
     "output_type": "execute_result"
    }
   ],
   "source": [
    "arr8 = arr8.flatten()\n",
    "arr8"
   ]
  },
  {
   "cell_type": "code",
   "execution_count": 19,
   "metadata": {},
   "outputs": [
    {
     "data": {
      "text/plain": [
       "array([ 2,  4,  6,  8, 10, 12, 14, 16, 18])"
      ]
     },
     "execution_count": 19,
     "metadata": {},
     "output_type": "execute_result"
    }
   ],
   "source": [
    "arr8 = arr8.ravel()\n",
    "arr8"
   ]
  },
  {
   "cell_type": "markdown",
   "metadata": {},
   "source": [
    "#### what is the difference  between ravel and flatten?\n",
    "##### Ravel:- 1) returns only reference or view of original array\n",
    "##### 2) it does not create a new array\n",
    "##### 3) it does not change the shape of the array\n",
    "##### Flatten:- 1) returns a copy of original array\n",
    "##### 2) it creates a new array\n",
    "##### 3) it changes the shape of the array\n"
   ]
  },
  {
   "cell_type": "markdown",
   "metadata": {},
   "source": [
    "#### array slicing"
   ]
  },
  {
   "cell_type": "code",
   "execution_count": 20,
   "metadata": {},
   "outputs": [
    {
     "name": "stdout",
     "output_type": "stream",
     "text": [
      "[[ 1  2  3  4  5]\n",
      " [ 6  7  8  9 10]\n",
      " [11 12 13 14 15]\n",
      " [16 17 18 19 20]\n",
      " [21 22 23 24 25]\n",
      " [26 27 28 29 30]\n",
      " [31 32 33 34 35]\n",
      " [36 37 38 39 40]\n",
      " [41 42 43 44 45]\n",
      " [46 47 48 49 50]]\n"
     ]
    }
   ],
   "source": [
    "arr9 = np.arange(1,51)\n",
    "arr9 = arr9.reshape(10,5)\n",
    "print(arr9)"
   ]
  },
  {
   "cell_type": "code",
   "execution_count": 21,
   "metadata": {},
   "outputs": [
    {
     "data": {
      "text/plain": [
       "array([1, 2, 3, 4, 5])"
      ]
     },
     "execution_count": 21,
     "metadata": {},
     "output_type": "execute_result"
    }
   ],
   "source": [
    "arr9[0]"
   ]
  },
  {
   "cell_type": "code",
   "execution_count": 22,
   "metadata": {},
   "outputs": [
    {
     "data": {
      "text/plain": [
       "2"
      ]
     },
     "execution_count": 22,
     "metadata": {},
     "output_type": "execute_result"
    }
   ],
   "source": [
    "arr9[0][1]"
   ]
  },
  {
   "cell_type": "code",
   "execution_count": 23,
   "metadata": {},
   "outputs": [
    {
     "data": {
      "text/plain": [
       "20"
      ]
     },
     "execution_count": 23,
     "metadata": {},
     "output_type": "execute_result"
    }
   ],
   "source": [
    "arr9[3,4]"
   ]
  },
  {
   "cell_type": "code",
   "execution_count": 24,
   "metadata": {},
   "outputs": [
    {
     "data": {
      "text/plain": [
       "array([[11, 12, 13, 14, 15],\n",
       "       [16, 17, 18, 19, 20],\n",
       "       [21, 22, 23, 24, 25]])"
      ]
     },
     "execution_count": 24,
     "metadata": {},
     "output_type": "execute_result"
    }
   ],
   "source": [
    "# if we want to print from 2nd row to 4th row\n",
    "arr9[2:5]  #[index of starting row:index of endingrow+1]"
   ]
  },
  {
   "cell_type": "code",
   "execution_count": 25,
   "metadata": {},
   "outputs": [
    {
     "data": {
      "text/plain": [
       "array([ 5, 10, 15, 20, 25, 30, 35, 40, 45, 50])"
      ]
     },
     "execution_count": 25,
     "metadata": {},
     "output_type": "execute_result"
    }
   ],
   "source": [
    "arr9[:,4]"
   ]
  },
  {
   "cell_type": "code",
   "execution_count": 26,
   "metadata": {},
   "outputs": [
    {
     "data": {
      "text/plain": [
       "array([14, 19, 24])"
      ]
     },
     "execution_count": 26,
     "metadata": {},
     "output_type": "execute_result"
    }
   ],
   "source": [
    "arr9[2:5,3]"
   ]
  },
  {
   "cell_type": "code",
   "execution_count": 27,
   "metadata": {},
   "outputs": [
    {
     "data": {
      "text/plain": [
       "array([[ 3,  4,  5],\n",
       "       [ 8,  9, 10],\n",
       "       [13, 14, 15],\n",
       "       [18, 19, 20],\n",
       "       [23, 24, 25],\n",
       "       [28, 29, 30],\n",
       "       [33, 34, 35],\n",
       "       [38, 39, 40],\n",
       "       [43, 44, 45],\n",
       "       [48, 49, 50]])"
      ]
     },
     "execution_count": 27,
     "metadata": {},
     "output_type": "execute_result"
    }
   ],
   "source": [
    "arr9[:,2:5]\n"
   ]
  },
  {
   "cell_type": "code",
   "execution_count": 28,
   "metadata": {},
   "outputs": [
    {
     "data": {
      "text/plain": [
       "array([ 8,  9, 10])"
      ]
     },
     "execution_count": 28,
     "metadata": {},
     "output_type": "execute_result"
    }
   ],
   "source": [
    "arr9[1,2:5]"
   ]
  },
  {
   "cell_type": "code",
   "execution_count": 29,
   "metadata": {},
   "outputs": [
    {
     "name": "stdout",
     "output_type": "stream",
     "text": [
      "[[ 0  1  2]\n",
      " [ 3  4  5]\n",
      " [ 6  7  8]\n",
      " [ 9 10 11]\n",
      " [12 13 14]\n",
      " [15 16 17]]\n",
      "----------------------------\n",
      "[[ 5 10 15]\n",
      " [20 25 30]\n",
      " [35 40 45]\n",
      " [50 55 60]\n",
      " [65 70 75]\n",
      " [80 85 90]]\n"
     ]
    }
   ],
   "source": [
    "# creating teo arrays\n",
    "a = np.arange(0,18).reshape(6,3)\n",
    "b = np.arange(5,91,5).reshape(6,3)\n",
    "print(a)\n",
    "print(\"----------------------------\")\n",
    "print(b)"
   ]
  },
  {
   "cell_type": "code",
   "execution_count": 30,
   "metadata": {},
   "outputs": [
    {
     "data": {
      "text/plain": [
       "array([[   0,   10,   30],\n",
       "       [  60,  100,  150],\n",
       "       [ 210,  280,  360],\n",
       "       [ 450,  550,  660],\n",
       "       [ 780,  910, 1050],\n",
       "       [1200, 1360, 1530]])"
      ]
     },
     "execution_count": 30,
     "metadata": {},
     "output_type": "execute_result"
    }
   ],
   "source": [
    "a*b #or np.multiply(a,b)"
   ]
  },
  {
   "cell_type": "code",
   "execution_count": 31,
   "metadata": {},
   "outputs": [
    {
     "data": {
      "text/plain": [
       "array([[  5,  11,  17],\n",
       "       [ 23,  29,  35],\n",
       "       [ 41,  47,  53],\n",
       "       [ 59,  65,  71],\n",
       "       [ 77,  83,  89],\n",
       "       [ 95, 101, 107]])"
      ]
     },
     "execution_count": 31,
     "metadata": {},
     "output_type": "execute_result"
    }
   ],
   "source": [
    "a+b"
   ]
  },
  {
   "cell_type": "code",
   "execution_count": 32,
   "metadata": {},
   "outputs": [
    {
     "data": {
      "text/plain": [
       "array([[  5,  11,  17],\n",
       "       [ 23,  29,  35],\n",
       "       [ 41,  47,  53],\n",
       "       [ 59,  65,  71],\n",
       "       [ 77,  83,  89],\n",
       "       [ 95, 101, 107]])"
      ]
     },
     "execution_count": 32,
     "metadata": {},
     "output_type": "execute_result"
    }
   ],
   "source": [
    "np.add(a,b)"
   ]
  },
  {
   "cell_type": "code",
   "execution_count": 33,
   "metadata": {},
   "outputs": [
    {
     "data": {
      "text/plain": [
       "array([[   0,   10,   30],\n",
       "       [  60,  100,  150],\n",
       "       [ 210,  280,  360],\n",
       "       [ 450,  550,  660],\n",
       "       [ 780,  910, 1050],\n",
       "       [1200, 1360, 1530]])"
      ]
     },
     "execution_count": 33,
     "metadata": {},
     "output_type": "execute_result"
    }
   ],
   "source": [
    "np.multiply(a,b)"
   ]
  },
  {
   "cell_type": "code",
   "execution_count": 34,
   "metadata": {},
   "outputs": [
    {
     "data": {
      "text/plain": [
       "array([[ -5,  -9, -13],\n",
       "       [-17, -21, -25],\n",
       "       [-29, -33, -37],\n",
       "       [-41, -45, -49],\n",
       "       [-53, -57, -61],\n",
       "       [-65, -69, -73]])"
      ]
     },
     "execution_count": 34,
     "metadata": {},
     "output_type": "execute_result"
    }
   ],
   "source": [
    "a-b"
   ]
  },
  {
   "cell_type": "code",
   "execution_count": 35,
   "metadata": {},
   "outputs": [
    {
     "data": {
      "text/plain": [
       "array([[ -5,  -9, -13],\n",
       "       [-17, -21, -25],\n",
       "       [-29, -33, -37],\n",
       "       [-41, -45, -49],\n",
       "       [-53, -57, -61],\n",
       "       [-65, -69, -73]])"
      ]
     },
     "execution_count": 35,
     "metadata": {},
     "output_type": "execute_result"
    }
   ],
   "source": [
    "np.subtract(a,b)"
   ]
  },
  {
   "cell_type": "code",
   "execution_count": 36,
   "metadata": {},
   "outputs": [
    {
     "data": {
      "text/plain": [
       "array([[0.        , 0.1       , 0.13333333],\n",
       "       [0.15      , 0.16      , 0.16666667],\n",
       "       [0.17142857, 0.175     , 0.17777778],\n",
       "       [0.18      , 0.18181818, 0.18333333],\n",
       "       [0.18461538, 0.18571429, 0.18666667],\n",
       "       [0.1875    , 0.18823529, 0.18888889]])"
      ]
     },
     "execution_count": 36,
     "metadata": {},
     "output_type": "execute_result"
    }
   ],
   "source": [
    "a/b"
   ]
  },
  {
   "cell_type": "markdown",
   "metadata": {},
   "source": [
    "#### why the error is coming in the first go if we do not reshape b?\n",
    "##### because we know for matrix multiplication column of A = row of B , so we need to reshape it"
   ]
  },
  {
   "cell_type": "code",
   "execution_count": 37,
   "metadata": {},
   "outputs": [
    {
     "data": {
      "text/plain": [
       "array([[ 5, 10, 15, 20, 25, 30],\n",
       "       [35, 40, 45, 50, 55, 60],\n",
       "       [65, 70, 75, 80, 85, 90]])"
      ]
     },
     "execution_count": 37,
     "metadata": {},
     "output_type": "execute_result"
    }
   ],
   "source": [
    "b=b.reshape(3,6)\n",
    "b"
   ]
  },
  {
   "cell_type": "code",
   "execution_count": 38,
   "metadata": {},
   "outputs": [
    {
     "data": {
      "text/plain": [
       "array([[ 165,  180,  195,  210,  225,  240],\n",
       "       [ 480,  540,  600,  660,  720,  780],\n",
       "       [ 795,  900, 1005, 1110, 1215, 1320],\n",
       "       [1110, 1260, 1410, 1560, 1710, 1860],\n",
       "       [1425, 1620, 1815, 2010, 2205, 2400],\n",
       "       [1740, 1980, 2220, 2460, 2700, 2940]])"
      ]
     },
     "execution_count": 38,
     "metadata": {},
     "output_type": "execute_result"
    }
   ],
   "source": [
    "#matrixmultiplication\n",
    "a@b"
   ]
  },
  {
   "cell_type": "code",
   "execution_count": 39,
   "metadata": {},
   "outputs": [
    {
     "data": {
      "text/plain": [
       "array([[ 165,  180,  195,  210,  225,  240],\n",
       "       [ 480,  540,  600,  660,  720,  780],\n",
       "       [ 795,  900, 1005, 1110, 1215, 1320],\n",
       "       [1110, 1260, 1410, 1560, 1710, 1860],\n",
       "       [1425, 1620, 1815, 2010, 2205, 2400],\n",
       "       [1740, 1980, 2220, 2460, 2700, 2940]])"
      ]
     },
     "execution_count": 39,
     "metadata": {},
     "output_type": "execute_result"
    }
   ],
   "source": [
    "a.dot(b)"
   ]
  },
  {
   "cell_type": "markdown",
   "metadata": {},
   "source": [
    "### maximum and minimum of an array"
   ]
  },
  {
   "cell_type": "code",
   "execution_count": 40,
   "metadata": {},
   "outputs": [
    {
     "name": "stdout",
     "output_type": "stream",
     "text": [
      "17\n",
      "90\n"
     ]
    }
   ],
   "source": [
    "print(a.max())\n",
    "print(b.max())"
   ]
  },
  {
   "cell_type": "code",
   "execution_count": 41,
   "metadata": {},
   "outputs": [
    {
     "name": "stdout",
     "output_type": "stream",
     "text": [
      "0\n",
      "5\n"
     ]
    }
   ],
   "source": [
    "print(a.min())\n",
    "print(b.min())"
   ]
  },
  {
   "cell_type": "markdown",
   "metadata": {},
   "source": [
    "#### to get the array position of high and low"
   ]
  },
  {
   "cell_type": "code",
   "execution_count": 42,
   "metadata": {},
   "outputs": [
    {
     "name": "stdout",
     "output_type": "stream",
     "text": [
      "17\n",
      "17\n"
     ]
    }
   ],
   "source": [
    "print(a.argmax())\n",
    "print(b.argmax())"
   ]
  },
  {
   "cell_type": "code",
   "execution_count": 43,
   "metadata": {},
   "outputs": [
    {
     "name": "stdout",
     "output_type": "stream",
     "text": [
      "0\n",
      "0\n"
     ]
    }
   ],
   "source": [
    "print(a.argmin())\n",
    "print(b.argmin())"
   ]
  },
  {
   "cell_type": "markdown",
   "metadata": {},
   "source": [
    "#### sum of all the elements of a matrix"
   ]
  },
  {
   "cell_type": "code",
   "execution_count": 44,
   "metadata": {},
   "outputs": [
    {
     "name": "stdout",
     "output_type": "stream",
     "text": [
      "153\n",
      "855\n"
     ]
    }
   ],
   "source": [
    "print(a.sum())\n",
    "print(b.sum())"
   ]
  },
  {
   "cell_type": "markdown",
   "metadata": {},
   "source": [
    "#### sum of each row when axis=1\n",
    "#### sum of each column when axis = 0"
   ]
  },
  {
   "cell_type": "code",
   "execution_count": 45,
   "metadata": {},
   "outputs": [
    {
     "name": "stdout",
     "output_type": "stream",
     "text": [
      "[ 3 12 21 30 39 48]\n",
      "[105 120 135 150 165 180]\n"
     ]
    }
   ],
   "source": [
    "print(np.sum(a,axis=1))\n",
    "print(np.sum(b,axis=0))"
   ]
  },
  {
   "cell_type": "markdown",
   "metadata": {},
   "source": [
    "#### mean,square value,standard deviation,log value"
   ]
  },
  {
   "cell_type": "code",
   "execution_count": 46,
   "metadata": {},
   "outputs": [
    {
     "name": "stdout",
     "output_type": "stream",
     "text": [
      "mean is : 47.5\n",
      "----------------------------\n",
      "square root is: [[2.23606798 3.16227766 3.87298335 4.47213595 5.         5.47722558]\n",
      " [5.91607978 6.32455532 6.70820393 7.07106781 7.41619849 7.74596669]\n",
      " [8.06225775 8.36660027 8.66025404 8.94427191 9.21954446 9.48683298]]\n",
      "----------------------------\n",
      "standard deviation is : 25.940637360455632\n",
      "----------------------------\n",
      "log value is: [[1.60943791 2.30258509 2.7080502  2.99573227 3.21887582 3.40119738]\n",
      " [3.55534806 3.68887945 3.80666249 3.91202301 4.00733319 4.09434456]\n",
      " [4.17438727 4.24849524 4.31748811 4.38202663 4.44265126 4.49980967]]\n",
      "----------------------------\n"
     ]
    }
   ],
   "source": [
    "print(\"mean is :\",np.mean(b))\n",
    "print(\"----------------------------\")\n",
    "\n",
    "print(\"square root is:\",np.sqrt(b))\n",
    "print(\"----------------------------\")\n",
    "\n",
    "print(\"standard deviation is :\",np.std(b))\n",
    "print(\"----------------------------\")\n",
    "\n",
    "print(\"log value is:\",np.log(b))\n",
    "print(\"----------------------------\")\n"
   ]
  },
  {
   "cell_type": "markdown",
   "metadata": {},
   "source": [
    "#### visualization of trigonametric functions"
   ]
  },
  {
   "cell_type": "code",
   "execution_count": 47,
   "metadata": {},
   "outputs": [
    {
     "data": {
      "text/plain": [
       "3.141592653589793"
      ]
     },
     "execution_count": 47,
     "metadata": {},
     "output_type": "execute_result"
    }
   ],
   "source": [
    "np.pi"
   ]
  },
  {
   "cell_type": "code",
   "execution_count": 48,
   "metadata": {},
   "outputs": [
    {
     "name": "stdout",
     "output_type": "stream",
     "text": [
      "1.0\n",
      "6.123233995736766e-17\n",
      "1.633123935319537e+16\n"
     ]
    }
   ],
   "source": [
    "# for 90 degree\n",
    "print(np.sin(np.pi/2))\n",
    "print(np.cos(np.pi/2))\n",
    "print(np.tan(np.pi/2))\n"
   ]
  },
  {
   "cell_type": "code",
   "execution_count": 49,
   "metadata": {},
   "outputs": [
    {
     "name": "stdout",
     "output_type": "stream",
     "text": [
      "0.49999999999999994\n",
      "0.8660254037844387\n",
      "0.5773502691896257\n"
     ]
    }
   ],
   "source": [
    "# for 30 degree\n",
    "print(np.sin(np.pi/6))\n",
    "print(np.cos(np.pi/6))\n",
    "print(np.tan(np.pi/6))\n"
   ]
  },
  {
   "cell_type": "code",
   "execution_count": 50,
   "metadata": {},
   "outputs": [
    {
     "data": {
      "text/plain": [
       "0.0"
      ]
     },
     "execution_count": 50,
     "metadata": {},
     "output_type": "execute_result"
    }
   ],
   "source": [
    "np.tan(0)"
   ]
  },
  {
   "cell_type": "markdown",
   "metadata": {},
   "source": [
    "#### Matplot with numpy\n",
    "(first visit the matplot codes then this)"
   ]
  },
  {
   "cell_type": "code",
   "execution_count": 51,
   "metadata": {},
   "outputs": [],
   "source": [
    "import matplotlib.pyplot as plt\n"
   ]
  },
  {
   "cell_type": "code",
   "execution_count": 52,
   "metadata": {},
   "outputs": [
    {
     "data": {
      "image/png": "[encoded data removed]",
      "text/plain": [
       "<Figure size 600x600 with 1 Axes>"
      ]
     },
     "metadata": {},
     "output_type": "display_data"
    }
   ],
   "source": [
    "x = np.arange(1,11)\n",
    "y = np.arange(10,110,10)\n",
    "\n",
    "plt.figure(figsize=(6,6))\n",
    "plt.plot(x,y,\"r--\")\n",
    "plt.show()"
   ]
  },
  {
   "cell_type": "code",
   "execution_count": 53,
   "metadata": {},
   "outputs": [
    {
     "name": "stdout",
     "output_type": "stream",
     "text": [
      "[ 0.          0.09983342  0.19866933  0.29552021  0.38941834  0.47942554\n",
      "  0.56464247  0.64421769  0.71735609  0.78332691  0.84147098  0.89120736\n",
      "  0.93203909  0.96355819  0.98544973  0.99749499  0.9995736   0.99166481\n",
      "  0.97384763  0.94630009  0.90929743  0.86320937  0.8084964   0.74570521\n",
      "  0.67546318  0.59847214  0.51550137  0.42737988  0.33498815  0.23924933\n",
      "  0.14112001  0.04158066 -0.05837414 -0.15774569 -0.2555411  -0.35078323\n",
      " -0.44252044 -0.52983614 -0.61185789 -0.68776616 -0.7568025  -0.81827711\n",
      " -0.87157577 -0.91616594 -0.95160207 -0.97753012 -0.993691   -0.99992326\n",
      " -0.99616461 -0.98245261 -0.95892427 -0.92581468 -0.88345466 -0.83226744\n",
      " -0.77276449 -0.70554033 -0.63126664 -0.55068554 -0.46460218 -0.37387666\n",
      " -0.2794155  -0.1821625  -0.0830894 ]\n"
     ]
    }
   ],
   "source": [
    "x_sin=np.arange(0,2*np.pi,0.1)\n",
    "y_sin = np.sin(x_sin)\n",
    "print(y_sin)"
   ]
  },
  {
   "cell_type": "code",
   "execution_count": 54,
   "metadata": {},
   "outputs": [
    {
     "data": {
      "image/png": "[encoded data removed]",
      "text/plain": [
       "<Figure size 640x480 with 1 Axes>"
      ]
     },
     "metadata": {},
     "output_type": "display_data"
    }
   ],
   "source": [
    "#sin curve\n",
    "plt.title(\"Sin-curve\")\n",
    "plt.xlabel(\"x_sin\")\n",
    "plt.ylabel(\"y_sin\")\n",
    "\n",
    "plt.plot(x_sin,y_sin,marker=\"o\")\n",
    "plt.show()"
   ]
  },
  {
   "cell_type": "code",
   "execution_count": 55,
   "metadata": {},
   "outputs": [
    {
     "name": "stdout",
     "output_type": "stream",
     "text": [
      "[ 1.          0.99500417  0.98006658  0.95533649  0.92106099  0.87758256\n",
      "  0.82533561  0.76484219  0.69670671  0.62160997  0.54030231  0.45359612\n",
      "  0.36235775  0.26749883  0.16996714  0.0707372  -0.02919952 -0.12884449\n",
      " -0.22720209 -0.32328957 -0.41614684 -0.5048461  -0.58850112 -0.66627602\n",
      " -0.73739372 -0.80114362 -0.85688875 -0.90407214 -0.94222234 -0.97095817\n",
      " -0.9899925  -0.99913515 -0.99829478 -0.98747977 -0.96679819 -0.93645669\n",
      " -0.89675842 -0.84810003 -0.79096771 -0.7259323  -0.65364362 -0.57482395\n",
      " -0.49026082 -0.40079917 -0.30733287 -0.2107958  -0.11215253 -0.01238866\n",
      "  0.08749898  0.18651237  0.28366219  0.37797774  0.46851667  0.55437434\n",
      "  0.63469288  0.70866977  0.77556588  0.83471278  0.88551952  0.92747843\n",
      "  0.96017029  0.98326844  0.9965421 ]\n"
     ]
    },
    {
     "data": {
      "image/png": "[encoded data removed]",
      "text/plain": [
       "<Figure size 640x480 with 1 Axes>"
      ]
     },
     "metadata": {},
     "output_type": "display_data"
    }
   ],
   "source": [
    "x_cos=np.arange(0,2*np.pi,0.1)\n",
    "y_cos = np.cos(x_cos)\n",
    "print(y_cos)\n",
    "#cos curve\n",
    "plt.title(\"cos-curve\")\n",
    "plt.xlabel(\"x_cos\")\n",
    "plt.ylabel(\"y_cos\")\n",
    "\n",
    "plt.plot(x_cos,y_cos,marker=\"o\")\n",
    "plt.show()\n",
    "\n"
   ]
  },
  {
   "cell_type": "code",
   "execution_count": 56,
   "metadata": {},
   "outputs": [
    {
     "name": "stdout",
     "output_type": "stream",
     "text": [
      "[ 0.00000000e+00  1.00334672e-01  2.02710036e-01  3.09336250e-01\n",
      "  4.22793219e-01  5.46302490e-01  6.84136808e-01  8.42288380e-01\n",
      "  1.02963856e+00  1.26015822e+00  1.55740772e+00  1.96475966e+00\n",
      "  2.57215162e+00  3.60210245e+00  5.79788372e+00  1.41014199e+01\n",
      " -3.42325327e+01 -7.69660214e+00 -4.28626167e+00 -2.92709751e+00\n",
      " -2.18503986e+00 -1.70984654e+00 -1.37382306e+00 -1.11921364e+00\n",
      " -9.16014290e-01 -7.47022297e-01 -6.01596613e-01 -4.72727629e-01\n",
      " -3.55529832e-01 -2.46405394e-01 -1.42546543e-01 -4.16166546e-02\n",
      "  5.84738545e-02  1.59745748e-01  2.64316901e-01  3.74585640e-01\n",
      "  4.93466730e-01  6.24733075e-01  7.73556091e-01  9.47424650e-01\n",
      "  1.15782128e+00  1.42352648e+00  1.77777977e+00  2.28584788e+00\n",
      "  3.09632378e+00  4.63733205e+00  8.86017490e+00  8.07127630e+01\n",
      " -1.13848707e+01 -5.26749307e+00 -3.38051501e+00 -2.44938942e+00\n",
      " -1.88564188e+00 -1.50127340e+00 -1.21754082e+00 -9.95584052e-01\n",
      " -8.13943284e-01 -6.59730572e-01 -5.24666222e-01 -4.03110900e-01\n",
      " -2.91006191e-01 -1.85262231e-01 -8.33777149e-02]\n"
     ]
    },
    {
     "data": {
      "image/png": "[encoded data removed]",
      "text/plain": [
       "<Figure size 640x480 with 1 Axes>"
      ]
     },
     "metadata": {},
     "output_type": "display_data"
    }
   ],
   "source": [
    "#tancurve\n",
    "x_tan=np.arange(0,2*np.pi,0.1)\n",
    "y_tan = np.tan(x_tan)\n",
    "print(y_tan)\n",
    "\n",
    "plt.title(\"tan-curve\")\n",
    "plt.xlabel(\"x_tan\")\n",
    "plt.ylabel(\"y_tan\")\n",
    "\n",
    "plt.plot(x_tan,y_tan,marker=\"o\")\n",
    "plt.show()"
   ]
  },
  {
   "cell_type": "code",
   "execution_count": 57,
   "metadata": {},
   "outputs": [
    {
     "name": "stdout",
     "output_type": "stream",
     "text": [
      "[            inf  9.96664442e+00  4.93315488e+00  3.23272814e+00\n",
      "  2.36522242e+00  1.83048772e+00  1.46169595e+00  1.18724183e+00\n",
      "  9.71214601e-01  7.93551148e-01  6.42092616e-01  5.08968105e-01\n",
      "  3.88779569e-01  2.77615647e-01  1.72476726e-01  7.09148443e-02\n",
      " -2.92119782e-02 -1.29927464e-01 -2.33303535e-01 -3.41635355e-01\n",
      " -4.57657554e-01 -5.84847806e-01 -7.27895776e-01 -8.93484463e-01\n",
      " -1.09168603e+00 -1.33864813e+00 -1.66224340e+00 -2.11538302e+00\n",
      " -2.81270349e+00 -4.05835272e+00 -7.01525255e+00 -2.40288416e+01\n",
      "  1.71016604e+01  6.25994754e+00  3.78333734e+00  2.66961648e+00\n",
      "  2.02647907e+00  1.60068362e+00  1.29273108e+00  1.05549291e+00\n",
      "  8.63691154e-01  7.02480784e-01  5.62499368e-01  4.37474431e-01\n",
      "  3.22963640e-01  2.15641233e-01  1.12864589e-01  1.23896143e-02\n",
      " -8.78358684e-02 -1.89843629e-01 -2.95812916e-01 -4.08265012e-01\n",
      " -5.30323394e-01 -6.66101193e-01 -8.21327696e-01 -1.00443553e+00\n",
      " -1.22858683e+00 -1.51577029e+00 -1.90597366e+00 -2.48070692e+00\n",
      " -3.43635300e+00 -5.39775429e+00 -1.19936125e+01]\n"
     ]
    },
    {
     "name": "stderr",
     "output_type": "stream",
     "text": [
      "C:\\Users\\hp\\AppData\\Local\\Temp\\ipykernel_26776\\772208643.py:3: RuntimeWarning: divide by zero encountered in divide\n",
      "  y_cot = 1/np.tan(x_cot)\n"
     ]
    },
    {
     "data": {
      "image/png": "[encoded data removed]",
      "text/plain": [
       "<Figure size 640x480 with 1 Axes>"
      ]
     },
     "metadata": {},
     "output_type": "display_data"
    }
   ],
   "source": [
    "#cotcurve\n",
    "x_cot=np.arange(0,2*np.pi,0.1)\n",
    "y_cot = 1/np.tan(x_cot)\n",
    "print(y_cot)\n",
    "\n",
    "plt.title(\"cot-curve\")\n",
    "plt.xlabel(\"x_cot\")\n",
    "plt.ylabel(\"y_cot\")\n",
    "\n",
    "plt.plot(x_cot,y_cot,marker=\"o\")\n",
    "plt.show()"
   ]
  },
  {
   "cell_type": "code",
   "execution_count": 58,
   "metadata": {},
   "outputs": [
    {
     "data": {
      "image/png": "[encoded data removed]",
      "text/plain": [
       "<Figure size 800x800 with 4 Axes>"
      ]
     },
     "metadata": {},
     "output_type": "display_data"
    }
   ],
   "source": [
    "plt.figure(figsize=(8,8))\n",
    "plt.subplot(2,2,1)\n",
    "plt.title(\"Sin-Curve\")\n",
    "plt.plot(x_sin,y_sin)\n",
    "\n",
    "plt.subplot(2,2,2)\n",
    "plt.title(\"Cos-Curve\")\n",
    "plt.plot(x_cos,y_cos)\n",
    "\n",
    "plt.subplot(2,2,3)\n",
    "plt.title(\"Tan-Curve\")\n",
    "plt.plot(x_tan,y_tan)\n",
    "\n",
    "plt.subplot(2,2,4)\n",
    "plt.title(\"Cot-Curve\")\n",
    "plt.plot(x_cot,y_cot)\n",
    "\n",
    "plt.show()"
   ]
  },
  {
   "cell_type": "markdown",
   "metadata": {},
   "source": [
    "#### Random numbers array"
   ]
  },
  {
   "cell_type": "code",
   "execution_count": 59,
   "metadata": {},
   "outputs": [
    {
     "data": {
      "text/plain": [
       "array([0.34457499])"
      ]
     },
     "execution_count": 59,
     "metadata": {},
     "output_type": "execute_result"
    }
   ],
   "source": [
    "np.random.random(1)"
   ]
  },
  {
   "cell_type": "code",
   "execution_count": 60,
   "metadata": {},
   "outputs": [
    {
     "data": {
      "text/plain": [
       "array([[0.47423097, 0.49350258],\n",
       "       [0.38171778, 0.60174852]])"
      ]
     },
     "execution_count": 60,
     "metadata": {},
     "output_type": "execute_result"
    }
   ],
   "source": [
    "np.random.random((2,2))"
   ]
  },
  {
   "cell_type": "code",
   "execution_count": 61,
   "metadata": {},
   "outputs": [
    {
     "data": {
      "text/plain": [
       "2"
      ]
     },
     "execution_count": 61,
     "metadata": {},
     "output_type": "execute_result"
    }
   ],
   "source": [
    "# if you want a random number in a range\n",
    "np.random.randint(1,10)"
   ]
  },
  {
   "cell_type": "code",
   "execution_count": 62,
   "metadata": {},
   "outputs": [
    {
     "data": {
      "text/plain": [
       "array([[1, 9],\n",
       "       [9, 3]])"
      ]
     },
     "execution_count": 62,
     "metadata": {},
     "output_type": "execute_result"
    }
   ],
   "source": [
    "np.random.randint(1,10,(2,2))"
   ]
  },
  {
   "cell_type": "code",
   "execution_count": 63,
   "metadata": {},
   "outputs": [
    {
     "data": {
      "text/plain": [
       "array([[[0.27888926, 0.55118951, 0.37548347, 0.48974444, 0.78467676],\n",
       "        [0.29952911, 0.61863489, 0.25732319, 0.37571319, 0.46756495],\n",
       "        [0.60185317, 0.99643807, 0.00702378, 0.81843993, 0.84122743],\n",
       "        [0.66787138, 0.32503224, 0.74734735, 0.52896957, 0.87222489]],\n",
       "\n",
       "       [[0.12278051, 0.45197436, 0.15897028, 0.12992752, 0.91367722],\n",
       "        [0.39318539, 0.13351853, 0.01302448, 0.42114571, 0.90122141],\n",
       "        [0.85087746, 0.24868871, 0.35875599, 0.16655578, 0.88075411],\n",
       "        [0.90323931, 0.62716989, 0.17036328, 0.85322741, 0.70197024]],\n",
       "\n",
       "       [[0.17803385, 0.09300109, 0.43020386, 0.35839849, 0.07331969],\n",
       "        [0.87604862, 0.42138549, 0.51830029, 0.28181399, 0.21417623],\n",
       "        [0.07605063, 0.24956002, 0.80638567, 0.53134873, 0.58024237],\n",
       "        [0.68107745, 0.7862423 , 0.75595322, 0.7981763 , 0.14046226]]])"
      ]
     },
     "execution_count": 63,
     "metadata": {},
     "output_type": "execute_result"
    }
   ],
   "source": [
    "#for float\n",
    "np.random.rand(3, 4, 5)"
   ]
  },
  {
   "cell_type": "code",
   "execution_count": 64,
   "metadata": {},
   "outputs": [
    {
     "name": "stdout",
     "output_type": "stream",
     "text": [
      "[1 2 3 4 5 6 7 8 9]\n"
     ]
    }
   ],
   "source": [
    "a = np.arange(1,10)\n",
    "print(a)"
   ]
  },
  {
   "cell_type": "code",
   "execution_count": 67,
   "metadata": {},
   "outputs": [
    {
     "data": {
      "text/plain": [
       "5"
      ]
     },
     "execution_count": 67,
     "metadata": {},
     "output_type": "execute_result"
    }
   ],
   "source": [
    "np.random.choice(a)"
   ]
  },
  {
   "cell_type": "markdown",
   "metadata": {},
   "source": [
    "#### string operations\n"
   ]
  },
  {
   "cell_type": "code",
   "execution_count": 72,
   "metadata": {},
   "outputs": [],
   "source": [
    "s1 = \"My name is pratyusha \"\n",
    "s2 = \"I am an Indian\""
   ]
  },
  {
   "cell_type": "code",
   "execution_count": 73,
   "metadata": {},
   "outputs": [
    {
     "data": {
      "text/plain": [
       "array('My name is pratyusha I am an Indian', dtype='<U35')"
      ]
     },
     "execution_count": 73,
     "metadata": {},
     "output_type": "execute_result"
    }
   ],
   "source": [
    "np.char.add(s1,s2)"
   ]
  },
  {
   "cell_type": "code",
   "execution_count": 74,
   "metadata": {},
   "outputs": [
    {
     "data": {
      "text/plain": [
       "array('MY NAME IS PRATYUSHA ', dtype='<U21')"
      ]
     },
     "execution_count": 74,
     "metadata": {},
     "output_type": "execute_result"
    }
   ],
   "source": [
    "np.char.upper(s1)"
   ]
  },
  {
   "cell_type": "code",
   "execution_count": 75,
   "metadata": {},
   "outputs": [
    {
     "data": {
      "text/plain": [
       "array('i am an indian', dtype='<U14')"
      ]
     },
     "execution_count": 75,
     "metadata": {},
     "output_type": "execute_result"
    }
   ],
   "source": [
    "np.char.lower(s2)"
   ]
  },
  {
   "cell_type": "code",
   "execution_count": 76,
   "metadata": {},
   "outputs": [
    {
     "data": {
      "text/plain": [
       "array(list(['My', 'name', 'is', 'pratyusha']), dtype=object)"
      ]
     },
     "execution_count": 76,
     "metadata": {},
     "output_type": "execute_result"
    }
   ],
   "source": [
    "np.char.split(s1)"
   ]
  },
  {
   "cell_type": "code",
   "execution_count": 77,
   "metadata": {},
   "outputs": [
    {
     "data": {
      "text/plain": [
       "array(list(['Megha is ', ' my nickname']), dtype=object)"
      ]
     },
     "execution_count": 77,
     "metadata": {},
     "output_type": "execute_result"
    }
   ],
   "source": [
    "s3 = \"Megha is \\n my nickname\"\n",
    "np.char.splitlines(s3)"
   ]
  },
  {
   "cell_type": "code",
   "execution_count": 78,
   "metadata": {},
   "outputs": [
    {
     "data": {
      "text/plain": [
       "array('My Official name is pratyusha ', dtype='<U30')"
      ]
     },
     "execution_count": 78,
     "metadata": {},
     "output_type": "execute_result"
    }
   ],
   "source": [
    "np.char.replace(s1,\"name\",\"Official name\")"
   ]
  },
  {
   "cell_type": "code",
   "execution_count": 79,
   "metadata": {},
   "outputs": [
    {
     "name": "stdout",
     "output_type": "stream",
     "text": [
      "***********good Bye******************\n"
     ]
    }
   ],
   "source": [
    "print(\"***********good Bye******************\")"
   ]
  },
  {
   "cell_type": "code",
   "execution_count": 80,
   "metadata": {},
   "outputs": [
    {
     "name": "stdout",
     "output_type": "stream",
     "text": [
      "************************************good bye************************************\n"
     ]
    }
   ],
   "source": [
    "print(np.char.center(\"good bye\",80,\"*\"))"
   ]
  },
  {
   "cell_type": "code",
   "execution_count": null,
   "metadata": {},
   "outputs": [],
   "source": []
  }
 ],
 "metadata": {
  "kernelspec": {
   "display_name": "Python 3",
   "language": "python",
   "name": "python3"
  },
  "language_info": {
   "codemirror_mode": {
    "name": "ipython",
    "version": 3
   },
   "file_extension": ".py",
   "mimetype": "text/x-python",
   "name": "python",
   "nbconvert_exporter": "python",
   "pygments_lexer": "ipython3",
   "version": "3.11.4"
  }
 },
 "nbformat": 4,
 "nbformat_minor": 2
}
